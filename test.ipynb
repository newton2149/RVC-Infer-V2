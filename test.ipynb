{
 "cells": [
  {
   "cell_type": "code",
   "execution_count": 1,
   "metadata": {},
   "outputs": [],
   "source": [
    "import requests\n",
    "from fastapi import HTTPException\n",
    "import random\n",
    "\n",
    "def download_file_from_firebase_storage(download_url, output_file_path):\n",
    "    response = requests.get(download_url)\n",
    "    if response.status_code == 200:\n",
    "        with open(output_file_path, 'wb') as f:\n",
    "            f.write(response.content)\n",
    "        print(\"File downloaded successfully.\")\n",
    "    else:\n",
    "        raise HTTPException(status_code=response.status_code,\n",
    "                            detail=f\"Failed to download file. Status code: {response.status_code}\")\n"
   ]
  },
  {
   "cell_type": "code",
   "execution_count": null,
   "metadata": {},
   "outputs": [],
   "source": [
    "local_path = f'./temp_db/download/{random.randint(0, 100000)}.wav'\n",
    "download_file_from_firebase_storage('https://firebasestorage.googleapis.com/v0/b/intenrship-e76b3.appspot.com/o/LJ001-0001.wav?alt=media&token=37bf871f-f2f2-4807-a37f-b5f297151877',local_path)"
   ]
  },
  {
   "cell_type": "code",
   "execution_count": 2,
   "metadata": {},
   "outputs": [],
   "source": [
    "import zipfile\n",
    "import os\n",
    "def extract_zip(zip_file_path, extract_to='inference_db'):\n",
    "    with zipfile.ZipFile(zip_file_path, 'r') as zip_ref:\n",
    "        os.makedirs(extract_to, exist_ok=True)\n",
    "        zip_ref.extractall(extract_to)\n",
    "        return os.path.join(extract_to, zip_ref.namelist()[0])"
   ]
  },
  {
   "cell_type": "code",
   "execution_count": 3,
   "metadata": {},
   "outputs": [
    {
     "name": "stdout",
     "output_type": "stream",
     "text": [
      "File downloaded successfully.\n"
     ]
    },
    {
     "data": {
      "text/plain": [
       "'inference_db/test-wavs/'"
      ]
     },
     "execution_count": 3,
     "metadata": {},
     "output_type": "execute_result"
    }
   ],
   "source": [
    "local_path = f'./temp_db/download/{random.randint(0, 100000)}.zip'\n",
    "    \n",
    "download_file_from_firebase_storage('https://firebasestorage.googleapis.com/v0/b/intenrship-e76b3.appspot.com/o/test-wavs.zip?alt=media&token=524cdae1-bc78-4b0f-ac12-a570c0e5833a',local_path)\n",
    "\n",
    "extract_zip(local_path)"
   ]
  },
  {
   "cell_type": "code",
   "execution_count": null,
   "metadata": {},
   "outputs": [],
   "source": []
  }
 ],
 "metadata": {
  "kernelspec": {
   "display_name": "rvc_infer",
   "language": "python",
   "name": "python3"
  },
  "language_info": {
   "codemirror_mode": {
    "name": "ipython",
    "version": 3
   },
   "file_extension": ".py",
   "mimetype": "text/x-python",
   "name": "python",
   "nbconvert_exporter": "python",
   "pygments_lexer": "ipython3",
   "version": "3.10.13"
  }
 },
 "nbformat": 4,
 "nbformat_minor": 2
}
